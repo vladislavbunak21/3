{
 "cells": [
  {
   "cell_type": "markdown",
   "metadata": {},
   "source": [
    "# Домашня робота №3\n",
    "Будемо використовувати *Збірник задач з теорії ймовірностей та математичної статистики: навч. посібник / В.В. Голомозий, М.В. Карташов, К.В. Ральченко. – К.: Видавничо-поліграфічний центр «Київський університет», 2015. – 366 с.*\n",
    "Електронну версію збірника можна знайти [тут](http://probability.univ.kiev.ua/userfiles/kmv/gkr-problems.pdf)."
   ]
  },
  {
   "cell_type": "markdown",
   "metadata": {},
   "source": [
    "## 1 Задача 1.3.12\n",
    "Знайти ймовiрнiсть того, що серед трьох цифр, кожна з яких вибрана навмання, буде лише 1, 2, 3 рiзних.\n",
    "\n",
    "Обчисліть теоретичну (повним перебором) та еміричну (симулюванням $100000$ експериментів) імовірності."
   ]
  },
  {
   "cell_type": "code",
   "execution_count": 5,
   "metadata": {},
   "outputs": [
    {
     "name": "stdout",
     "output_type": "stream",
     "text": [
      "лише 1:0.01; лише дві:0.27; лише три:0.72\n",
      "емпірично: лише 1:0.00973; лише дві:0.27111; лише три:0.71916\n"
     ]
    }
   ],
   "source": [
    "# Місце для Вашого коду\n",
    "import numpy as np\n",
    "list_of_variants=[[]]\n",
    "k=3\n",
    "for i in range(k):\n",
    "            new_list=[]\n",
    "            for j in list_of_variants:\n",
    "\n",
    "                for k in range(10):\n",
    "                    p=j.copy()\n",
    "                    new_list.append(p+[k])\n",
    "                #new_list.append()\n",
    "            list_of_variants=new_list.copy()     \n",
    "#print(list_of_variants)    \n",
    "n1=0\n",
    "n2=0\n",
    "n3=0\n",
    "d=len(list_of_variants)\n",
    "for i in list_of_variants:\n",
    "    if len(set(i))==1:\n",
    "        n1+=1\n",
    "    if len(set(i))==2:\n",
    "        n2+=1\n",
    "    if len(set(i))==3:\n",
    "        n3+=1\n",
    "print('лише 1:{}; лише дві:{}; лише три:{}'.format(n1/d, n2/d, n3/d))   \n",
    "list_of_variants=[]\n",
    "q=100000\n",
    "for j in range(q):\n",
    "            list_of_variants.append(list(np.random.randint(low=0, high=10, size=3)))\n",
    "\n",
    "n1=0\n",
    "n2=0\n",
    "n3=0\n",
    "d=len(list_of_variants)\n",
    "for i in list_of_variants:\n",
    "    if len(set(i))==1:\n",
    "        n1+=1\n",
    "    if len(set(i))==2:\n",
    "        n2+=1\n",
    "    if len(set(i))==3:\n",
    "        n3+=1\n",
    "print('емпірично: лише 1:{}; лише дві:{}; лише три:{}'.format(n1/d, n2/d, n3/d))\n"
   ]
  },
  {
   "cell_type": "markdown",
   "metadata": {},
   "source": [
    "# 2 Задача 1.3.14\n",
    "З послiдовностi чисел $1, 2, . . . , n$ вибирають навмання $k$ рiзних чисел.\n",
    "Яка ймовiрнiсть того, що:\n",
    "1. кожне з вибраних чисел кратне даному числу $p$;\n",
    "2. кожне з вибраних чисел кратне хоча б одному з двох взаємно простих чисел $p$ i $q$;\n",
    "3. серед вибраних чисел є хоча б одне кратне $p$?\n",
    "\n",
    "Напишіть  відповідні функції для обрахунку теоретичної (повним перебором) та еміричної (симулюванням $100000$ експериментів) імовірностей в залежності від параметрів $n, k, p, q$.\n",
    "Виведіть результат для\n",
    "- $n = 25, k = 5, p = 3, q = 4$;\n",
    "- $n = 25, k = 10, p = 3, q = 4$."
   ]
  },
  {
   "cell_type": "code",
   "execution_count": 6,
   "metadata": {},
   "outputs": [
    {
     "name": "stdout",
     "output_type": "stream",
     "text": [
      "кожне з вибраних чисел кратне даному числу  𝑝: 0.0013175230566534915;  кожне з вибраних чисел кратне хоча б одному з двох взаємно простих чисел  𝑝  i  𝑞 :0.018633540372670808; серед вибраних чисел є хоча б одне кратне  𝑝 :0.8972332015810277\n",
      "кожне з вибраних чисел кратне даному числу  𝑝: 0.0;  кожне з вибраних чисел кратне хоча б одному з двох взаємно простих чисел  𝑝  i  𝑞 :3.3651904697805894e-05; серед вибраних чисел є хоча б одне кратне  𝑝 :0.9959169022299995\n",
      "кожне з вибраних чисел кратне даному числу  𝑝: 0.0008;  кожне з вибраних чисел кратне хоча б одному з двох взаємно простих чисел  𝑝  i  𝑞 :0.0179; серед вибраних чисел є хоча б одне кратне  𝑝 :0.8996\n",
      "кожне з вибраних чисел кратне даному числу  𝑝: 0.0;  кожне з вибраних чисел кратне хоча б одному з двох взаємно простих чисел  𝑝  i  𝑞 :0.0; серед вибраних чисел є хоча б одне кратне  𝑝 :0.995\n"
     ]
    }
   ],
   "source": [
    "# Місце для Вашого коду\n",
    "from itertools import combinations\n",
    "def teor (n, k, p, q):\n",
    "    my_range=range(1,n)\n",
    "    choose_k = list(combinations(my_range,k))\n",
    "    n1, n2, n3=0, 0, 0\n",
    "    d=len(choose_k)\n",
    "    for i in choose_k:\n",
    "        Flag1=True\n",
    "        Flag2=True\n",
    "        Flag3=False\n",
    "        for j in i:\n",
    "            if j%p==0:\n",
    "                Flag3=True\n",
    "            elif j%q==0:\n",
    "                Flag1=False\n",
    "            else:\n",
    "                Flag1=False\n",
    "                Flag2=False\n",
    "        n1+=Flag1\n",
    "        n2+=Flag2\n",
    "        n3+=Flag3\n",
    "    print ('кожне з вибраних чисел кратне даному числу  𝑝: {};  кожне з вибраних чисел кратне хоча б одному з двох взаємно простих чисел  𝑝  i  𝑞 :{}; серед вибраних чисел є хоча б одне кратне  𝑝 :{}'.format(n1/d, n2/d, n3/d)) \n",
    "teor(𝑛=25,𝑘=5,𝑝=3,𝑞=4) \n",
    "teor(𝑛=25,𝑘=10,𝑝=3,𝑞=4) \n",
    "\n",
    "def emp (n, k, p, q):\n",
    "    my_range=range(1,n)\n",
    "    choose_k =[]\n",
    "    for i in range(10000):\n",
    "        choose_k.append(list(np.random.choice(my_range, size=k, replace=False)))\n",
    "    n1, n2, n3=0, 0, 0\n",
    "    d=len(choose_k)\n",
    "    for i in choose_k:\n",
    "        Flag1=True\n",
    "        Flag2=True\n",
    "        Flag3=False\n",
    "        for j in i:\n",
    "            if j%p==0:\n",
    "                Flag3=True\n",
    "            elif j%q==0:\n",
    "                Flag1=False\n",
    "            else:\n",
    "                Flag1=False\n",
    "                Flag2=False\n",
    "        n1+=Flag1\n",
    "        n2+=Flag2\n",
    "        n3+=Flag3\n",
    "    print ('кожне з вибраних чисел кратне даному числу  𝑝: {};  кожне з вибраних чисел кратне хоча б одному з двох взаємно простих чисел  𝑝  i  𝑞 :{}; серед вибраних чисел є хоча б одне кратне  𝑝 :{}'.format(n1/d, n2/d, n3/d)) \n",
    "emp(𝑛=25,𝑘=5,𝑝=3,𝑞=4) \n",
    "emp(𝑛=25,𝑘=10,𝑝=3,𝑞=4)\n"
   ]
  },
  {
   "cell_type": "markdown",
   "metadata": {},
   "source": [
    "# 3 Задача 1.4.6\n",
    "В коморi знаходяться $n$ пар черевикiв.\n",
    "З них випадковим чином вибираються $2k$ черевикiв.\n",
    "Яка ймовiрнiсть того, що серед вибраних черевикiв:\n",
    "1. вiдсутнi парнi;\n",
    "2. є рiвно одна комплектна пара;\n",
    "3. є двi комплектнi пари?\n",
    "\n",
    "Напишіть  відповідні функції для обрахунку теоретичної (повним перебором) та еміричної (симулюванням $100000$ експериментів) імовірностей в залежності від параметрів $n, k$.\n",
    "Виведіть результат для\n",
    "- $n = 8, k = 4$;\n",
    "- $n = 13, k = 5$."
   ]
  },
  {
   "cell_type": "code",
   "execution_count": 7,
   "metadata": {
    "scrolled": false
   },
   "outputs": [
    {
     "name": "stdout",
     "output_type": "stream",
     "text": [
      "вiдсутнi парнi: 0.01989121989121989;  є рiвно одна комплектна пара:0.2784770784770785; є  (принаймні) двi комплектнi пари:0.7016317016317016\n",
      "__\n",
      "вiдсутнi парнi: 0.05513528065688518;  є рiвно одна комплектна пара:0.31013595369497915; є  (принаймні) двi комплектнi пари:0.6347287656481357\n",
      "__\n"
     ]
    }
   ],
   "source": [
    "# Місце для Вашого коду\n",
    "def teor (n, k):\n",
    "    chereviki=[]\n",
    "    for i in range (n):\n",
    "        chereviki.append(('П', i))\n",
    "        chereviki.append(('Л', i))\n",
    "    choose_k = list(combinations(chereviki,2*k))\n",
    "    \n",
    "    n1=0\n",
    "    n2=0\n",
    "    n3=0\n",
    "    #print(choose_k)\n",
    "    for i in choose_k:#комбінації з черевиків\n",
    "        my_set=set()\n",
    "        for j in i:#черевик в кожній комбінації\n",
    "            my_set=my_set|{j[1]}\n",
    "         #   print(my_set, i)\n",
    "        if len(my_set)==2*k:\n",
    "            n1+=1\n",
    "            #print(my_set, i)\n",
    "        elif len(my_set)==2*k-1:\n",
    "            n2+=1\n",
    "            #print(my_set, i)\n",
    "        else:\n",
    "            n3+=1\n",
    "            #print(my_set, i)\n",
    "    d=len (choose_k)\n",
    "    print ('вiдсутнi парнi: {};  є рiвно одна комплектна пара:{}; є  (принаймні) двi комплектнi пари:{}'.format(n1/d, n2/d, n3/d)) \n",
    "teor(𝑛=8,𝑘=4) \n",
    "print('__')\n",
    "teor(𝑛=13,𝑘=5)   \n",
    "print('__')\n"
   ]
  },
  {
   "cell_type": "code",
   "execution_count": 10,
   "metadata": {},
   "outputs": [
    {
     "name": "stdout",
     "output_type": "stream",
     "text": [
      "вiдсутнi парнi: 0.0195;  є рiвно одна комплектна пара:0.2841; є  (принаймні) двi комплектнi пари:0.6964\n",
      "вiдсутнi парнi: 0.0565;  є рiвно одна комплектна пара:0.3195; є  (принаймні) двi комплектнi пари:0.624\n"
     ]
    }
   ],
   "source": [
    "def emp (n, k):\n",
    "    chereviki=[]\n",
    "    for i in range (n):\n",
    "        chereviki.append(('П{}'.format(i)))\n",
    "        chereviki.append(('Л{}'.format(i)))\n",
    "    choose_k = []\n",
    "    k2=2*k\n",
    "    for i in range(10000):\n",
    "        choose_k.append(list(np.random.choice(chereviki, size=k2, replace=False)))\n",
    "    #print(choose_k)\n",
    "    n1=0\n",
    "    n2=0\n",
    "    n3=0\n",
    "    #print(choose_k)\n",
    "    for i in choose_k:#комбінації з черевиків\n",
    "        my_set=set()\n",
    "        for j in i:#черевик в кожній комбінації\n",
    "            my_set=my_set|{int(j[1:])}\n",
    "            #print(my_set, i, 1)\n",
    "        if len(my_set)==2*k:\n",
    "            n1+=1\n",
    "            #print(my_set, i, 2)\n",
    "        elif len(my_set)==2*k-1:\n",
    "            n2+=1\n",
    "            #print(my_set, i, 3)\n",
    "        else:\n",
    "            n3+=1\n",
    "            #print(my_set, i, 4)\n",
    "    d=len (choose_k)\n",
    "    print ('вiдсутнi парнi: {};  є рiвно одна комплектна пара:{}; є  (принаймні) двi комплектнi пари:{}'.format(n1/d, n2/d, n3/d)) \n",
    "emp(𝑛=8,𝑘=4)  \n",
    "emp(𝑛=13,𝑘=5)"
   ]
  },
  {
   "cell_type": "markdown",
   "metadata": {},
   "source": [
    "# 4 Задача 1.2.15\n",
    "Нехай $\\Omega = {1, 2, \\ldots, 2n}$.\n",
    "Всiм числам приписанi ймовiрностi, пропорцiйнi логарифмам цих чисел.\n",
    "Знайти цi ймовiрностi.\n",
    "Знайти ймовiрнiсть того, що в результатi експерименту з’явиться:\n",
    "1. парне число;\n",
    "2. непарне число.\n",
    "\n",
    "Напишіть функцію для обрахунку еміричної (симулюванням $100000$ експериментів) імовірності в залежності від параметра $n$.\n",
    "Виведіть результат для\n",
    "- $n = 10$;\n",
    "- $n = 25$."
   ]
  },
  {
   "cell_type": "code",
   "execution_count": 11,
   "metadata": {},
   "outputs": [
    {
     "name": "stdout",
     "output_type": "stream",
     "text": [
      "[0.0, 0.04589037655099013, 0.07273452597729282, 0.09178075310198026, 0.1065541545987042, 0.11862490252828295, 0.128830574485499, 0.13767112965297038, 0.14546905195458565, 0.15244453114969433]\n",
      "парне: 0.5421;  непарне:0.4579;\n",
      "[0.0, 0.01195007065328633, 0.018940413866427204, 0.02390014130657266, 0.027747204785754504, 0.030890484519713532, 0.03354808966743951, 0.03585021195985899, 0.03788082773285441, 0.03969727543904084, 0.041340452262928394, 0.04284055517299987, 0.044220516080013005, 0.04549816032072584, 0.04668761865218171, 0.04780028261314532, 0.048845469745624044, 0.049830898386140736, 0.05076303391568976, 0.051647346092327164, 0.052488503533866714, 0.05329052291621473, 0.054056884979399415, 0.054790625826286195, 0.05549440957150901]\n",
      "парне: 0.489;  непарне:0.511;\n"
     ]
    }
   ],
   "source": [
    "# Місце для Вашого коду\n",
    "import numpy as np\n",
    "import math\n",
    "def emp(n):\n",
    "    s=0\n",
    "    for i in range (1, n+1):\n",
    "        s+=(math.log(i))\n",
    "    k=1/s\n",
    "    l=[]\n",
    "    for i in range (1, n+1):\n",
    "        l.append(k*math.log(i))\n",
    "    print(l)\n",
    "    n1=0\n",
    "    n2=0\n",
    "    d=10000\n",
    "    for i in range(d):\n",
    "        a=np.random.choice(range (1, n+1), size=1, replace=False, p=l)\n",
    "        if a%2==0:\n",
    "            n1+=1\n",
    "        else:\n",
    "            n2+=1\n",
    "    print('парне: {};  непарне:{};'.format(n1/d, n2/d))\n",
    "emp(10)\n",
    "emp(25)\n"
   ]
  },
  {
   "cell_type": "code",
   "execution_count": null,
   "metadata": {},
   "outputs": [],
   "source": []
  }
 ],
 "metadata": {
  "kernelspec": {
   "display_name": "Python 3",
   "language": "python",
   "name": "python3"
  },
  "language_info": {
   "codemirror_mode": {
    "name": "ipython",
    "version": 3
   },
   "file_extension": ".py",
   "mimetype": "text/x-python",
   "name": "python",
   "nbconvert_exporter": "python",
   "pygments_lexer": "ipython3",
   "version": "3.7.3"
  }
 },
 "nbformat": 4,
 "nbformat_minor": 1
}
