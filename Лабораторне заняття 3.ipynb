{
 "cells": [
  {
   "cell_type": "markdown",
   "metadata": {
    "collapsed": true
   },
   "source": [
    "# Лабораторне заняття №3\n",
    "Дане лабораторне заняття буде присвячене вирішенню задач, вже розв'язаних на практичних заняттях, за допомогою засобів, вивчених на перших двох лабораторних заняттях.\n",
    "\n",
    "Будемо використовувати *Збірник задач з теорії ймовірностей та математичної статистики: навч. посібник / В.В. Голомозий, М.В. Карташов, К.В. Ральченко. – К.: Видавничо-поліграфічний центр «Київський університет», 2015. – 366 с.*\n",
    "Електронну версію збірника можна знайти [тут](http://probability.univ.kiev.ua/userfiles/kmv/gkr-problems.pdf)."
   ]
  },
  {
   "cell_type": "markdown",
   "metadata": {},
   "source": [
    "## 1 Задача 1.3.6\n",
    "Знайти ймовiрнiсть того, що серед $k$ цифр, кожна з яких вибрана навмання (вибiрка з поверненням):\n",
    "1. не входить $0$;\n",
    "2. не входить $1$;\n",
    "3. не входить нi $0$, нi $1$;\n",
    "4. не входить або $0$, або $1$.\n",
    "\n",
    "Напишіть відповідні функції для обрахунку теоретичної (повним перебором) та еміричної (симулюванням $100000$ експериментів) імовірностей в залежності від параметра $k$.\n",
    "Виведіть результат для\n",
    "- $k = 5$;\n",
    "- $k = 10$."
   ]
  },
  {
   "cell_type": "code",
   "execution_count": 1,
   "metadata": {},
   "outputs": [
    {
     "name": "stdout",
     "output_type": "stream",
     "text": [
      "1. не входить 0: 0.59049 ;\n",
      "2. не входить 1: 0.59049;\n",
      "3. не входить нi 0, нi 1: 0.32768;\n",
      "4. не входить або 0, або 1: 0.8533\n",
      "\n",
      "1. не входить 0: 0.3486784401 ;\n",
      "2. не входить 1: 0.3486784401;\n",
      "3. не входить нi 0, нi 1: 0.1073741824;\n",
      "4. не входить або 0, або 1: 0.5899826978\n",
      "\n",
      "1. не входить 0: 0.58895 ;\n",
      "2. не входить 1: 0.59258;\n",
      "3. не входить нi 0, нi 1: 0.32776;\n",
      "4. не входить або 0, або 1: 0.85377\n",
      "\n",
      "1. не входить 0: 0.35102 ;\n",
      "2. не входить 1: 0.34847;\n",
      "3. не входить нi 0, нi 1: 0.10818;\n",
      "4. не входить або 0, або 1: 0.59131\n",
      "\n"
     ]
    }
   ],
   "source": [
    "# Місце для Вашого коду\n",
    "A=range(10)\n",
    "import numpy as np\n",
    "def teor (k):\n",
    "    if k<5:\n",
    "        list_of_variants=[[]]\n",
    "        for i in range(k):\n",
    "            new_list=[]\n",
    "            for j in list_of_variants:\n",
    "\n",
    "                for k in range(10):\n",
    "                    p=j.copy()\n",
    "                    new_list.append(p+[k])\n",
    "                #new_list.append()\n",
    "            list_of_variants=new_list.copy()\n",
    "        #print(list_of_variants)\n",
    "        v1=0\n",
    "        v2=0\n",
    "        v3=0\n",
    "        v4=0\n",
    "        d=len(list_of_variants)\n",
    "        for i in list_of_variants:\n",
    "            if 0 not in i:\n",
    "                v1+=1\n",
    "            if 1 not in i:\n",
    "                v2+=1 \n",
    "            if (0 not in i) and (1 not in i):\n",
    "                v3+=1\n",
    "            if (0 not in i) or (1 not in i):\n",
    "                v4+=1\n",
    "    else:\n",
    "        d=10**k\n",
    "        v1=(9**(k))\n",
    "        v2=(9**(k))\n",
    "        v3=(8**(k))\n",
    "        v4=(9**(k))+(9**(k))-(8**(k))\n",
    "    print('1. не входить 0: {} ;\\n2. не входить 1: {};\\n3. не входить нi 0, нi 1: {};\\n4. не входить або 0, або 1: {}\\n'.format(v1/d, v2/d, v3/d, v4/d))\n",
    "teor(5)\n",
    "teor(10)\n",
    "def emp(n, q):\n",
    "        v1=0\n",
    "        v2=0\n",
    "        v3=0\n",
    "        v4=0\n",
    "        list_of_variants=[]\n",
    "        for j in range(q):\n",
    "            list_of_variants.append(list(np.random.randint(low=0, high=10, size=n)))\n",
    "        d=len(list_of_variants)\n",
    "        for i in list_of_variants:\n",
    "            if 0 not in i:\n",
    "                v1+=1\n",
    "            if 1 not in i:\n",
    "                v2+=1 \n",
    "            if (0 not in i) and (1 not in i):\n",
    "                v3+=1\n",
    "            if (0 not in i) or (1 not in i):\n",
    "                v4+=1\n",
    "        print('1. не входить 0: {} ;\\n2. не входить 1: {};\\n3. не входить нi 0, нi 1: {};\\n4. не входить або 0, або 1: {}\\n'.format(v1/d, v2/d, v3/d, v4/d))\n",
    "emp(5, 100000)\n",
    "emp(10, 100000)\n"
   ]
  },
  {
   "cell_type": "markdown",
   "metadata": {},
   "source": [
    "## 2 Задача 1.3.20\n",
    "Гральний кубик пiдкидають шiсть разiв.\n",
    "Знайти ймовiрнiсть того, що:\n",
    "1. випадуть всi шiсть граней;\n",
    "2. випадуть хоча б двi однаковi гранi;\n",
    "3. випадуть тiльки три рiзнi гранi.\n",
    "\n",
    "Обчисліть теоретичну (повним перебором) та еміричну (симулюванням $100000$ експериментів) імовірності."
   ]
  },
  {
   "cell_type": "code",
   "execution_count": 2,
   "metadata": {},
   "outputs": [
    {
     "name": "stdout",
     "output_type": "stream",
     "text": [
      "1. випадуть всi шiсть граней: 0.015432098765432098 ;\n",
      "2. випадуть хоча б двi однаковi гранi: 0.9845679012345679;\n",
      "3. випадуть тiльки три рiзнi гранi: 0.23148148148148148;\n",
      "\n",
      "1. випадуть всi шiсть граней: 0.01539 ;\n",
      "2. випадуть хоча б двi однаковi гранi: 0.98461;\n",
      "3. випадуть тiльки три рiзнi гранi: 0.23096;\n",
      "\n"
     ]
    }
   ],
   "source": [
    "# Місце для Вашого коду\n",
    "list_of_variants=[[]]\n",
    "k=6\n",
    "for i in range(k):\n",
    "            new_list=[]\n",
    "            for j in list_of_variants:\n",
    "\n",
    "                for k in range(1, 7):\n",
    "                    p=j.copy()\n",
    "                    new_list.append(p+[k])\n",
    "                #new_list.append()\n",
    "            list_of_variants=new_list.copy()\n",
    "#print(list_of_variants)\n",
    "d=len(list_of_variants)\n",
    "v1=0\n",
    "v2=0\n",
    "v3=0\n",
    "for i in list_of_variants:\n",
    "    if (1 in i) and (2 in i) and (3 in i) and (4 in i) and (5 in i) and (6 in i):\n",
    "        v1+=1\n",
    "    my_set=set(i)\n",
    "    if len(my_set)<6:\n",
    "            v2+=1\n",
    "    if len(my_set)==3:\n",
    "            v3+=1\n",
    "print('1. випадуть всi шiсть граней: {} ;\\n2. випадуть хоча б двi однаковi гранi: {};\\n3. випадуть тiльки три рiзнi гранi: {};\\n'.format(v1/d, v2/d, v3/d))\n",
    "q=100000\n",
    "list_of_variants=[]\n",
    "for j in range(q):\n",
    "            list_of_variants.append(list(np.random.randint(low=1, high=7, size=6)))\n",
    "v1=0\n",
    "v2=0\n",
    "v3=0\n",
    "for i in list_of_variants:\n",
    "    if (1 in i) and (2 in i) and (3 in i) and (4 in i) and (5 in i) and (6 in i):\n",
    "        v1+=1\n",
    "    my_set=set(i)\n",
    "    if len(my_set)<6:\n",
    "            v2+=1\n",
    "    if len(my_set)==3:\n",
    "            v3+=1\n",
    "    d=q\n",
    "print('1. випадуть всi шiсть граней: {} ;\\n2. випадуть хоча б двi однаковi гранi: {};\\n3. випадуть тiльки три рiзнi гранi: {};\\n'.format(v1/d, v2/d, v3/d))\n"
   ]
  },
  {
   "cell_type": "markdown",
   "metadata": {},
   "source": [
    "## 3 Задача 1.4.7\n",
    "В класi $35$ учнiв: $20$ дiвчаток та $15$ хлопчикiв.\n",
    "Вирiшено за допомогою жеребу розподiлити серед учнiв чотири квитки в театр.\n",
    "Яка ймовiрнiсть, що квитки отримають:\n",
    "1. чотири дiвчинки;\n",
    "2. два хлопчики та двi дiвчинки?\n",
    "\n",
    "Обчисліть теоретичну (повним перебором) та еміричну (симулюванням $100000$ експериментів) імовірності."
   ]
  },
  {
   "cell_type": "code",
   "execution_count": 3,
   "metadata": {},
   "outputs": [
    {
     "name": "stdout",
     "output_type": "stream",
     "text": [
      "1. чотири дiвчинки: 0.09253246753246754; 2. два хлопчики та двi дiвчинки: 0.3810160427807487\n"
     ]
    }
   ],
   "source": [
    "# Місце для Вашого коду\n",
    "A=[]\n",
    "from itertools import combinations\n",
    "for i in range (20):\n",
    "    A.append('Д{}'.format(i))\n",
    "for i in range (15):\n",
    "    A.append('Ч{}'.format(i))    \n",
    "choose_k = list(combinations(A,4))\n",
    "\n",
    "v1=0\n",
    "v2=0\n",
    "for i in choose_k:\n",
    "    p=0\n",
    "    for j in i:\n",
    "        if j[0]=='Д':\n",
    "            p+=1\n",
    "    if p==4:\n",
    "        v1+=1\n",
    "    if p==2:\n",
    "        v2+=1\n",
    "x=len(choose_k)\n",
    "print('1. чотири дiвчинки: {}; 2. два хлопчики та двi дiвчинки: {}'.format(v1/x, v2/x))\n"
   ]
  },
  {
   "cell_type": "code",
   "execution_count": 6,
   "metadata": {},
   "outputs": [
    {
     "name": "stdout",
     "output_type": "stream",
     "text": [
      "['Д0', 'Д1', 'Д2', 'Д3', 'Д4', 'Д5', 'Д6', 'Д7', 'Д8', 'Д9', 'Д10', 'Д11', 'Д12', 'Д13', 'Д14', 'Д15', 'Д16', 'Д17', 'Д18', 'Д19', 'Ч0', 'Ч1', 'Ч2', 'Ч3', 'Ч4', 'Ч5', 'Ч6', 'Ч7', 'Ч8', 'Ч9', 'Ч10', 'Ч11', 'Ч12', 'Ч13', 'Ч14']\n",
      "емпірична:\n",
      "1. чотири дiвчинки: 0.0955; 2. два хлопчики та двi дiвчинки: 0.3784\n"
     ]
    }
   ],
   "source": [
    "print(A)\n",
    "print('емпірична:')\n",
    "c=[]\n",
    "\n",
    "for i in range (10000):\n",
    "    c.append(list(np.random.choice(A, size=4, replace=False)))\n",
    "\n",
    "v1=0\n",
    "v2=0\n",
    "for i in c:\n",
    "    p=0\n",
    "    for j in i:\n",
    "        if j[0]=='Д':\n",
    "            p+=1\n",
    "    if p==4:\n",
    "        v1+=1\n",
    "    if p==2:\n",
    "        v2+=1\n",
    "x=len(c)\n",
    "print('1. чотири дiвчинки: {}; 2. два хлопчики та двi дiвчинки: {}'.format(v1/x, v2/x))"
   ]
  },
  {
   "cell_type": "markdown",
   "metadata": {},
   "source": [
    "## 4 Задача 1.4.8\n",
    "В урнi мiститься двi бiлих та чотири чорних кулi.\n",
    "З урни одну за одною виймають всi кулi.\n",
    "Знайти ймовiрнiсть того, що вийнята останньою куля буде бiлою.\n",
    "\n",
    "Обчисліть теоретичну (повним перебором) та еміричну (симулюванням $100000$ експериментів) імовірності."
   ]
  },
  {
   "cell_type": "code",
   "execution_count": 4,
   "metadata": {},
   "outputs": [
    {
     "name": "stdout",
     "output_type": "stream",
     "text": [
      "0.3333333333333333\n",
      "0.3294\n"
     ]
    }
   ],
   "source": [
    "# Місце для Вашого коду\n",
    "urna=['Ч', 'Ч', 'Ч', 'Ч', 'Б', 'Б']\n",
    "from itertools import permutations\n",
    "permute_all = list(permutations(urna))\n",
    "n=0\n",
    "#print(permute_all)\n",
    "for i in (permute_all):\n",
    "    if i[-1]=='Б':\n",
    "        n+=1\n",
    "print(n/len(permute_all))\n",
    "import numpy as np\n",
    "n=0\n",
    "for i in range (10000):\n",
    "    np.random.shuffle(urna)\n",
    "    if urna[-1]=='Б':\n",
    "        n+=1\n",
    "print(n/10000)\n"
   ]
  },
  {
   "cell_type": "markdown",
   "metadata": {},
   "source": [
    "## 5 Задача 1.4.15\n",
    "Колода з $52$ гральних карт ретельно тасується, пiсля чого одна за одною вiдкриваються верхнi карти до появи першого туза.\n",
    "Яка ймовiрнiсть того, що:\n",
    "1. першим тузом виявиться п’ята карта;\n",
    "2. першим тузом виявиться $k$-а карта;\n",
    "3. перший туз зустрiнеться не пiзнiше $k$-ої карти?\n",
    "\n",
    "Напишіть функцію для обрахунку еміричної (симулюванням $100000$ експериментів) імовірності в залежності від параметра $k$.\n",
    "Виведіть результат (пункти $2.$ та $3.$) для\n",
    "- $k = 5$;\n",
    "- $k = 8$;\n",
    "- $k = 10$."
   ]
  },
  {
   "cell_type": "code",
   "execution_count": 5,
   "metadata": {},
   "outputs": [
    {
     "name": "stdout",
     "output_type": "stream",
     "text": [
      "0.38434 0.07753\n",
      "0.60946 0.076\n",
      "0.77102 0.07725\n"
     ]
    }
   ],
   "source": [
    "# Місце для Вашого коду\n",
    "Ranks = {'1', '2', '3', '4', '5', '6', '7', '8', '9', '10', 'J', 'Q', 'K'}\n",
    "Suits = {'♢', '♠', '♣', '♡'}\n",
    "# Створимо колоду карт\n",
    "Cards = [(Rank, Suit) for Rank in Ranks for Suit in Suits]\n",
    "\n",
    "def test (k, q):\n",
    "    n1=0\n",
    "    n2=0\n",
    "    for i in range (q):\n",
    "        np.random.shuffle(Cards)\n",
    "        for j in range (k):\n",
    "            if Cards[j][0]=='1':\n",
    "                n1+=1\n",
    "                if j==k-1:\n",
    "                    n2+=1\n",
    "    print(n1/q, n2/q)\n",
    "test(5,100000)\n",
    "test(8,100000)\n",
    "test(10,100000)\n"
   ]
  },
  {
   "cell_type": "code",
   "execution_count": null,
   "metadata": {},
   "outputs": [],
   "source": []
  }
 ],
 "metadata": {
  "kernelspec": {
   "display_name": "Python 3",
   "language": "python",
   "name": "python3"
  },
  "language_info": {
   "codemirror_mode": {
    "name": "ipython",
    "version": 3
   },
   "file_extension": ".py",
   "mimetype": "text/x-python",
   "name": "python",
   "nbconvert_exporter": "python",
   "pygments_lexer": "ipython3",
   "version": "3.7.3"
  }
 },
 "nbformat": 4,
 "nbformat_minor": 1
}
